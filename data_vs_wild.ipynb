{
 "cells": [
  {
   "cell_type": "markdown",
   "metadata": {},
   "source": [
    "<img src= 'https://github.com/data-scince-explorer/data_vs_wild/blob/main/data_vs_wild.jpg?raw=true' width=500/>"
   ]
  },
  {
   "cell_type": "markdown",
   "metadata": {},
   "source": [
    "### 1.  Reading Data - with Pandas ###"
   ]
  },
  {
   "cell_type": "code",
   "execution_count": null,
   "metadata": {},
   "outputs": [],
   "source": [
    "# Importing the libraries\n",
    "import numpy as np\n",
    "import matplotlib.pyplot as plt\n",
    "import pandas as pd\n",
    "import seaborn as sns\n",
    "sns.set()  #import Seaborn functionalities\n"
   ]
  },
  {
   "cell_type": "code",
   "execution_count": null,
   "metadata": {},
   "outputs": [],
   "source": [
    "mushroom_df = pd.read_csv('data_vs_wild.csv') \n",
    "mushroom_df.info()"
   ]
  },
  {
   "cell_type": "code",
   "execution_count": null,
   "metadata": {},
   "outputs": [],
   "source": [
    "mushroom_df.columns"
   ]
  },
  {
   "cell_type": "markdown",
   "metadata": {},
   "source": [
    "Let’s have a look at data dimensionality, features names, and feature types."
   ]
  },
  {
   "cell_type": "code",
   "execution_count": null,
   "metadata": {},
   "outputs": [],
   "source": [
    "# Numbers of rows and columns\n",
    "mushroom_df.shape"
   ]
  },
  {
   "cell_type": "code",
   "execution_count": null,
   "metadata": {
    "scrolled": true
   },
   "outputs": [],
   "source": [
    "# First 5 records of data\n",
    "mushroom_df.head()"
   ]
  },
  {
   "cell_type": "code",
   "execution_count": null,
   "metadata": {},
   "outputs": [],
   "source": [
    "# Describe basic/statistical of data\n",
    "mushroom_df.describe()"
   ]
  },
  {
   "cell_type": "code",
   "execution_count": null,
   "metadata": {},
   "outputs": [],
   "source": [
    "mushroom_df.describe().transpose()  # change the rows and columns"
   ]
  },
  {
   "cell_type": "code",
   "execution_count": null,
   "metadata": {},
   "outputs": [],
   "source": [
    "mushroom_df.columns = [col.strip().replace('-', '_').lower() for col in mushroom_df.columns]\n",
    "# Print the new columns\n",
    "mushroom_df.columns\n",
    "mushroom_df.head()"
   ]
  },
  {
   "cell_type": "code",
   "execution_count": null,
   "metadata": {},
   "outputs": [],
   "source": [
    "# Open the mushroom properties details data\n",
    "\n",
    "mushroom_prop_df=pd.read_csv('mushroom_features.csv')\n",
    "\n",
    "mushroom_prop_df.head()\n"
   ]
  },
  {
   "cell_type": "code",
   "execution_count": null,
   "metadata": {},
   "outputs": [],
   "source": [
    "mushroom_prop_df.info"
   ]
  },
  {
   "cell_type": "code",
   "execution_count": null,
   "metadata": {},
   "outputs": [],
   "source": [
    "mushroom_prop_df.shape"
   ]
  },
  {
   "cell_type": "code",
   "execution_count": null,
   "metadata": {},
   "outputs": [],
   "source": [
    "# replace \"_\" from mush_feature column of mushroom_prop_df dataframe\n",
    "mushroom_prop_df=mushroom_prop_df.replace(to_replace ='-', value = '_', regex = True) \n",
    "mushroom_prop_df.info\n",
    "mushroom_prop_df.to_csv('new_mushroom_feature.csv')\n"
   ]
  },
  {
   "cell_type": "code",
   "execution_count": null,
   "metadata": {},
   "outputs": [],
   "source": [
    "new_mushroom_prop_df=pd.read_csv('new_mushroom_feature.csv')\n",
    "new_mushroom_prop_df.info"
   ]
  },
  {
   "cell_type": "code",
   "execution_count": null,
   "metadata": {},
   "outputs": [],
   "source": [
    "mushroom_df[cap_color]"
   ]
  },
  {
   "cell_type": "code",
   "execution_count": null,
   "metadata": {},
   "outputs": [],
   "source": [
    "# to see statistics on non-numerical features,\n",
    "mushroom_df.describe(include=['object'])"
   ]
  },
  {
   "cell_type": "code",
   "execution_count": null,
   "metadata": {},
   "outputs": [],
   "source": [
    "mushroom_df['safe'].value_counts() # to see how many mushrooms are not posioneous"
   ]
  },
  {
   "cell_type": "code",
   "execution_count": null,
   "metadata": {},
   "outputs": [],
   "source": [
    "mushroom_df['safe'].value_counts(normalize=True) # To see the fractions of mushrooms "
   ]
  },
  {
   "cell_type": "code",
   "execution_count": null,
   "metadata": {},
   "outputs": [],
   "source": [
    "(mushroom_df['safe'].value_counts().plot(\n",
    "        kind='bar',\n",
    "        figsize=(5, 8),\n",
    "        title='Distribution of Target Variable',\n",
    "        color='brown'\n",
    "    )\n",
    ");\n",
    "plt.show()"
   ]
  },
  {
   "cell_type": "code",
   "execution_count": null,
   "metadata": {},
   "outputs": [],
   "source": [
    "mushroom_df['safe'].mean()"
   ]
  },
  {
   "cell_type": "code",
   "execution_count": null,
   "metadata": {},
   "outputs": [],
   "source": [
    "mushroom_df.columns"
   ]
  },
  {
   "cell_type": "code",
   "execution_count": null,
   "metadata": {},
   "outputs": [],
   "source": [
    "#mushroom_df.iloc[0][1] #, 'cap_surface':'bruises']\n",
    "mushroom_df['stalk_color_below_ring']"
   ]
  },
  {
   "cell_type": "code",
   "execution_count": null,
   "metadata": {},
   "outputs": [],
   "source": [
    "mushroom_df.iloc[0:5, 0:3]"
   ]
  },
  {
   "cell_type": "code",
   "execution_count": null,
   "metadata": {},
   "outputs": [],
   "source": [
    "import seaborn as sns\n",
    "# sns.set_theme(style=\"whitegrid\")\n",
    "# tips = sns.load_dataset(\"tips\")\n",
    "# ax = sns.boxplot(x=tips[\"total_bill\"])\n",
    "ax = sns.boxplot(x=\"cap_surface\", y=\"safe\", data=mushroom_df)"
   ]
  },
  {
   "cell_type": "code",
   "execution_count": null,
   "metadata": {},
   "outputs": [],
   "source": [
    "ax = sns.boxplot(x=\"cap_surface\", y=\"safe\", hue=\"stalk_color_below_ring\",\n",
    "                 data=mushroom_df, palette=\"Set3\")"
   ]
  },
  {
   "cell_type": "code",
   "execution_count": null,
   "metadata": {},
   "outputs": [],
   "source": [
    "# ax = sns.boxplot(x=\"cap_surface\", y=\"safe\", data=mushroom_df, order=[\"stalk_color_below_ring\", \"gill_spacing\"])\n",
    "ax = sns.stripplot(x=\"cap_surface\", y=\"safe\", data=mushroom_df)"
   ]
  },
  {
   "cell_type": "code",
   "execution_count": null,
   "metadata": {},
   "outputs": [],
   "source": [
    "_, axes = plt.subplots(nrows=1, ncols=3, figsize=(15, 7))\n",
    "\n",
    "sns.countplot(x='cap_surface', data=mushroom_df, ax=axes[0]);\n",
    "sns.countplot(x='cap_color', data=mushroom_df, ax=axes[1]);\n",
    "sns.countplot(x='bruises', data=mushroom_df, ax=axes[2]);\n",
    "\n"
   ]
  },
  {
   "cell_type": "code",
   "execution_count": null,
   "metadata": {},
   "outputs": [],
   "source": [
    "_, axes = plt.subplots(nrows=1, ncols=3, figsize=(15, 7))\n",
    "sns.countplot(x='odor', data=mushroom_df, ax=axes[0]);\n",
    "sns.countplot(x='gill_attachment', data=mushroom_df, ax=axes[1]);\n",
    "sns.countplot(x='gill_spacing', data=mushroom_df, ax=axes[2]);"
   ]
  },
  {
   "cell_type": "code",
   "execution_count": null,
   "metadata": {},
   "outputs": [],
   "source": [
    "_, axes = plt.subplots(nrows=1, ncols=3, figsize=(15, 7))\n",
    "sns.countplot(x='gill_size', data=mushroom_df, ax=axes[0]);\n",
    "sns.countplot(x='gill_color', data=mushroom_df, ax=axes[1]);\n",
    "sns.countplot(x='stalk_shape', data=mushroom_df, ax=axes[2]);\n"
   ]
  },
  {
   "cell_type": "code",
   "execution_count": null,
   "metadata": {},
   "outputs": [],
   "source": [
    "mushroom_df.columns"
   ]
  },
  {
   "cell_type": "code",
   "execution_count": null,
   "metadata": {},
   "outputs": [],
   "source": [
    "_, axes = plt.subplots(nrows=1, ncols=3, figsize=(15, 7))\n",
    "\n",
    "sns.countplot(x='stalk_root', data=mushroom_df, ax=axes[0]);\n",
    "sns.countplot(x='stalk_surface_above_ring', data=mushroom_df, ax=axes[1]);\n",
    "sns.countplot(x='stalk_color_below_ring', data=mushroom_df, ax=axes[2]);"
   ]
  },
  {
   "cell_type": "code",
   "execution_count": null,
   "metadata": {},
   "outputs": [],
   "source": [
    "_, axes = plt.subplots(nrows=1, ncols=4, figsize=(15, 7))\n",
    "sns.countplot(x='veil_type', data=mushroom_df, ax=axes[0]);\n",
    "sns.countplot(x='veil_color', data=mushroom_df, ax=axes[1]);\n",
    "sns.countplot(x='ring_number', data=mushroom_df, ax=axes[2]);\n",
    "sns.countplot(x='ring_type', data=mushroom_df, ax=axes[3]);\n"
   ]
  },
  {
   "cell_type": "code",
   "execution_count": null,
   "metadata": {},
   "outputs": [],
   "source": [
    "_, axes = plt.subplots(nrows=1, ncols=3, figsize=(15, 7))\n",
    "\n",
    "sns.countplot(x='spore_print_color', data=mushroom_df, ax=axes[0]);\n",
    "sns.countplot(x='population', data=mushroom_df, ax=axes[1]);\n",
    "sns.countplot(x='stalk_root', data=mushroom_df, ax=axes[2]);\n"
   ]
  },
  {
   "cell_type": "code",
   "execution_count": null,
   "metadata": {},
   "outputs": [],
   "source": [
    "# Since Veil_Type is constant through out the complete dataset, drop this feature\n",
    "\n",
    "mushroom_df = mushroom_df.drop(['veil_type'], axis=1)\n"
   ]
  },
  {
   "cell_type": "code",
   "execution_count": null,
   "metadata": {},
   "outputs": [],
   "source": [
    "mushroom_df.shape"
   ]
  },
  {
   "cell_type": "code",
   "execution_count": null,
   "metadata": {},
   "outputs": [],
   "source": [
    "mushroom_df.columns"
   ]
  },
  {
   "cell_type": "code",
   "execution_count": null,
   "metadata": {},
   "outputs": [],
   "source": [
    "# Make second version of data_vs_wild dataset\n",
    "\n",
    "mushroom_df.to_csv('data_vs_wild_v2.csv')\n"
   ]
  },
  {
   "cell_type": "code",
   "execution_count": null,
   "metadata": {},
   "outputs": [],
   "source": [
    "mushroom_df_v2 = pd.read_csv('data_vs_wild_v2.csv') \n",
    "mushroom_df_v2.info()"
   ]
  },
  {
   "cell_type": "code",
   "execution_count": null,
   "metadata": {},
   "outputs": [],
   "source": [
    "mushroom_df_v2 = mushroom_df_v2.drop(['Unnamed: 0'], axis=1)\n",
    "mushroom_df_v2\n"
   ]
  },
  {
   "cell_type": "code",
   "execution_count": null,
   "metadata": {},
   "outputs": [],
   "source": [
    "\n",
    "\n",
    "mushroom_df_v2_copy = mushroom_df_v2.copy()\n",
    "\n",
    "data_column_category = mushroom_df_v2_copy.select_dtypes(exclude=[np.number]).columns\n",
    "data_column_category"
   ]
  },
  {
   "cell_type": "code",
   "execution_count": null,
   "metadata": {},
   "outputs": [],
   "source": [
    "# Create dummy variables for the categorical features\n",
    "to_dummy = mushroom_df_copy.select_dtypes(exclude=[np.number]).columns\n",
    "\n",
    "\n",
    "\n",
    "mushroom_df_v2_copy  = pd.get_dummies(mushroom_df_v2_copy, prefix = to_dummy, columns = to_dummy, drop_first = True)\n",
    "mushroom_df_v2_copy.head()"
   ]
  },
  {
   "cell_type": "code",
   "execution_count": null,
   "metadata": {},
   "outputs": [],
   "source": [
    "#Performing Onehot Encoding\n",
    "from sklearn.preprocessing import OneHotEncoder\n",
    "onehot_encoder = OneHotEncoder(sparse=False)\n",
    "\n",
    "onehot_encoded = onehot_encoder.fit_transform(mushroom_df_v2_copy[data_column_category])\n",
    "\n",
    "onehot_encoded"
   ]
  },
  {
   "cell_type": "code",
   "execution_count": null,
   "metadata": {},
   "outputs": [],
   "source": [
    "onehot_encoded_frame = pd.DataFrame(onehot_encoded, columns = onehot_encoder.get_feature_names(data_column_category))\n",
    "\n",
    "onehot_encoded_frame.head()"
   ]
  },
  {
   "cell_type": "code",
   "execution_count": null,
   "metadata": {},
   "outputs": [],
   "source": [
    "onehot_encoded_frame.shape"
   ]
  },
  {
   "cell_type": "code",
   "execution_count": null,
   "metadata": {},
   "outputs": [],
   "source": [
    "onehot_encoded_frame.columns"
   ]
  },
  {
   "cell_type": "code",
   "execution_count": null,
   "metadata": {},
   "outputs": [],
   "source": [
    "# Disply all Columns\n",
    "pd.options.display.max_columns=70\n",
    "\n",
    "# Calculate Correlation\n",
    "corr_matrix = onehot_encoded_frame.corr() \n",
    "corr_matrix\n"
   ]
  },
  {
   "cell_type": "code",
   "execution_count": null,
   "metadata": {},
   "outputs": [],
   "source": [
    "#### 4.2 Correlation heatmap of the numberic variables\n",
    "plt.rcParams['figure.figsize'] = 20,10  # control plot sizeimport seaborn as sns\n",
    "sns.heatmap(onehot_encoded_frame.corr())"
   ]
  },
  {
   "cell_type": "code",
   "execution_count": null,
   "metadata": {
    "scrolled": true
   },
   "outputs": [],
   "source": [
    "\n",
    "\n",
    "from pandas.plotting import scatter_matrix\n",
    "p=scatter_matrix(mushroom_df, alpha=0.2, figsize=(30, 20), diagonal='kde')\n",
    "\n"
   ]
  },
  {
   "cell_type": "code",
   "execution_count": null,
   "metadata": {},
   "outputs": [],
   "source": [
    "# Box and Whisker Plots\n",
    "import matplotlib.pyplot as plt\n",
    "plt.rcParams['figure.figsize'] = 20,20  # control plot size\n",
    "onehot_encoded_frame.plot(kind='box', subplots=True, layout=(116,116), sharex=False, sharey=False)\n",
    "plt.show()\n"
   ]
  }
 ],
 "metadata": {
  "kernelspec": {
   "display_name": "Python 3",
   "language": "python",
   "name": "python3"
  },
  "language_info": {
   "codemirror_mode": {
    "name": "ipython",
    "version": 3
   },
   "file_extension": ".py",
   "mimetype": "text/x-python",
   "name": "python",
   "nbconvert_exporter": "python",
   "pygments_lexer": "ipython3",
   "version": "3.8.5"
  },
  "toc": {
   "base_numbering": 1,
   "nav_menu": {},
   "number_sections": true,
   "sideBar": true,
   "skip_h1_title": false,
   "title_cell": "Table of Contents",
   "title_sidebar": "Contents",
   "toc_cell": false,
   "toc_position": {},
   "toc_section_display": true,
   "toc_window_display": false
  }
 },
 "nbformat": 4,
 "nbformat_minor": 2
}
